{
 "cells": [
  {
   "cell_type": "code",
   "execution_count": 18,
   "metadata": {},
   "outputs": [
    {
     "name": "stdout",
     "output_type": "stream",
     "text": [
      "(667, 3)\n",
      "       date    signal  spy_close_price\n",
      "0  20120103  3.107767          127.495\n",
      "1  20120104  3.107282          127.700\n",
      "2  20120105  3.099757          128.040\n",
      "3  20120106  3.134223          127.710\n",
      "4  20120109  3.135922          128.020\n",
      "5  20120110  3.143447          129.130\n",
      "6  20120111  3.127184          129.200\n",
      "7  20120112  3.139320          129.510\n",
      "8  20120113  3.174029          128.840\n",
      "9  20120117  3.190777          129.340\n",
      "(667, 3)\n"
     ]
    }
   ],
   "source": [
    "import pandas as pd\n",
    "import numpy as np\n",
    "\n",
    "df = pd.read_csv(\"./data.csv\")\n",
    "print(df.shape)\n",
    "print(df.head(n=10))\n",
    "\n",
    "df = df.dropna(axis=0, how='any', thresh=None, subset=None, inplace=False)\n",
    "\n",
    "print( df.shape )"
   ]
  },
  {
   "cell_type": "code",
   "execution_count": 19,
   "metadata": {},
   "outputs": [
    {
     "data": {
      "image/png": "[encoded data removed]",
      "text/plain": [
       "<matplotlib.figure.Figure at 0x11a2f5240>"
      ]
     },
     "metadata": {},
     "output_type": "display_data"
    }
   ],
   "source": [
    "#scatterplot\n",
    "import matplotlib.pyplot as plt\n",
    "plt.scatter([df['signal'] ], [df['spy_close_price'] ])\n",
    "plt.show()"
   ]
  },
  {
   "cell_type": "code",
   "execution_count": 21,
   "metadata": {},
   "outputs": [
    {
     "name": "stdout",
     "output_type": "stream",
     "text": [
      "0      3.107767\n",
      "1      3.107282\n",
      "2      3.099757\n",
      "3      3.134223\n",
      "4      3.135922\n",
      "5      3.143447\n",
      "6      3.127184\n",
      "7      3.139320\n",
      "8      3.174029\n",
      "9      3.190777\n",
      "10     3.202670\n",
      "11     3.194417\n",
      "12     3.190777\n",
      "13     3.217476\n",
      "14     3.200971\n",
      "15     3.199515\n",
      "16     3.188592\n",
      "17     3.187379\n",
      "18     3.215291\n",
      "19     3.220388\n",
      "20     3.263350\n",
      "21     3.265534\n",
      "22     3.271602\n",
      "23     3.281311\n",
      "24     3.285437\n",
      "25     3.261189\n",
      "26     3.285437\n",
      "27     3.281311\n",
      "28     3.266019\n",
      "29     3.302160\n",
      "         ...   \n",
      "637    4.800971\n",
      "638    4.780340\n",
      "639    4.781068\n",
      "640    4.686650\n",
      "641    4.672330\n",
      "642    4.706068\n",
      "643    4.660437\n",
      "644    4.661893\n",
      "645    4.636650\n",
      "646    4.703762\n",
      "647    4.697330\n",
      "648    4.690291\n",
      "649    4.729126\n",
      "650    4.751456\n",
      "651    4.750485\n",
      "652    4.790291\n",
      "653    4.815291\n",
      "654    4.828155\n",
      "655    4.842233\n",
      "656    4.834709\n",
      "657    4.859223\n",
      "658    4.862379\n",
      "659    4.860437\n",
      "660    4.857767\n",
      "661    4.871602\n",
      "662    4.869175\n",
      "663    4.866505\n",
      "664    4.859468\n",
      "665    4.881311\n",
      "666    4.868689\n",
      "Name: signal, Length: 665, dtype: float64\n"
     ]
    },
    {
     "data": {
      "image/png": "[encoded data removed]",
      "text/plain": [
       "<matplotlib.figure.Figure at 0x11a500240>"
      ]
     },
     "metadata": {},
     "output_type": "display_data"
    }
   ],
   "source": [
    "#scatterplot after removing outliers-ish\n",
    "print(df['signal'])\n",
    "df = df[ (df['signal']<400) ]\n",
    "df = df[ (df['signal']>2) ]\n",
    "df = df[ (df['spy_close_price']<500) ]\n",
    "plt.scatter([df['signal'] ], [df['spy_close_price'] ])\n",
    "plt.xlabel('signal')\n",
    "plt.ylabel('spy_close_price')\n",
    "plt.show()"
   ]
  },
  {
   "cell_type": "code",
   "execution_count": 23,
   "metadata": {},
   "outputs": [
    {
     "name": "stdout",
     "output_type": "stream",
     "text": [
      "0.99507761939\n"
     ]
    }
   ],
   "source": [
    "corr = df['signal'].corr(df['spy_close_price'])\n",
    "print(corr)"
   ]
  },
  {
   "cell_type": "code",
   "execution_count": null,
   "metadata": {
    "collapsed": true
   },
   "outputs": [],
   "source": []
  },
  {
   "cell_type": "code",
   "execution_count": null,
   "metadata": {
    "collapsed": true
   },
   "outputs": [],
   "source": []
  }
 ],
 "metadata": {
  "kernelspec": {
   "display_name": "Python 3",
   "language": "python",
   "name": "python3"
  },
  "language_info": {
   "codemirror_mode": {
    "name": "ipython",
    "version": 3
   },
   "file_extension": ".py",
   "mimetype": "text/x-python",
   "name": "python",
   "nbconvert_exporter": "python",
   "pygments_lexer": "ipython3",
   "version": "3.6.1"
  }
 },
 "nbformat": 4,
 "nbformat_minor": 2
}
